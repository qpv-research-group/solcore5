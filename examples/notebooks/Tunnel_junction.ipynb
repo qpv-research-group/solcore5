{
 "cells": [
  {
   "cell_type": "code",
   "execution_count": null,
   "metadata": {},
   "outputs": [],
   "source": [
    "import matplotlib.pyplot as plt"
   ]
  },
  {
   "cell_type": "code",
   "execution_count": null,
   "metadata": {},
   "outputs": [],
   "source": [
    "from solcore.structure import TunnelJunction\n",
    "from solcore.solar_cell_solver import default_options\n",
    "from solcore.analytic_solar_cells import parametric_tunnel_junction"
   ]
  },
  {
   "cell_type": "markdown",
   "metadata": {},
   "source": [
    "We define the tunnel junction and solve its properties"
   ]
  },
  {
   "cell_type": "code",
   "execution_count": null,
   "metadata": {},
   "outputs": [],
   "source": [
    "tunnel = TunnelJunction(v_peak=0.2, j_peak=100, v_valley=0.9, j_valley=10, prefactor=10, j01=1e-21, kind='parametric')\n",
    "parametric_tunnel_junction(tunnel, default_options)"
   ]
  },
  {
   "cell_type": "code",
   "execution_count": null,
   "metadata": {},
   "outputs": [],
   "source": [
    "v = tunnel.voltage"
   ]
  },
  {
   "cell_type": "code",
   "execution_count": null,
   "metadata": {},
   "outputs": [],
   "source": [
    "plt.plot(v, tunnel.tunnel_current(v), 'r--', label='Tunnel')\n",
    "plt.plot(v, tunnel.excess_current(v), 'g--', label='Excess')\n",
    "plt.plot(v, tunnel.diffusion_current(v), 'b--', label='Diffusion')\n",
    "plt.plot(v, tunnel.current, 'k', linewidth=3, color='DimGray', label='Total')\n",
    "plt.plot((0.2, 0.9), (100, 10), 'ko')\n",
    "\n",
    "plt.annotate('V$_P$, J$_P$', xy=(0.2, 110), fontsize=12)\n",
    "plt.annotate('V$_V$, J$_V$', xy=(0.6, 10), fontsize=12)\n",
    "\n",
    "plt.legend(fontsize=12, frameon=False)\n",
    "plt.ylim(0, 150)\n",
    "plt.xlim(0, 2)\n",
    "plt.ylabel('Current Density(A/$m^2$)', fontsize=12)\n",
    "plt.xlabel('Voltage(V)', fontsize=12)\n",
    "plt.tick_params(labelsize=12)\n",
    "plt.tight_layout()\n",
    "plt.show()"
   ]
  }
 ],
 "metadata": {
  "kernelspec": {
   "display_name": "Python 3",
   "language": "python",
   "name": "python3"
  },
  "language_info": {
   "codemirror_mode": {
    "name": "ipython",
    "version": 3
   },
   "file_extension": ".py",
   "mimetype": "text/x-python",
   "name": "python",
   "nbconvert_exporter": "python",
   "pygments_lexer": "ipython3",
   "version": "3.7.4"
  }
 },
 "nbformat": 4,
 "nbformat_minor": 4
}
